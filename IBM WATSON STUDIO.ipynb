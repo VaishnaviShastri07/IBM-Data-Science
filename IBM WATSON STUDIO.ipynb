{
 "cells": [
  {
   "cell_type": "markdown",
   "id": "5495b0e1",
   "metadata": {},
   "source": [
    "# MY JUPYTER NOTEBOOK ON IBM WATSON STUDIO\n",
    "\n"
   ]
  },
  {
   "cell_type": "markdown",
   "id": "7528bb60",
   "metadata": {},
   "source": [
    "<b>Vaishnavi Shastri</b>\n",
    "<br>Computer Science and Engineering student"
   ]
  },
  {
   "cell_type": "markdown",
   "id": "23931588",
   "metadata": {},
   "source": [
    "<i>I am interested in data science because I love to gain insights from data.</i>\n",
    "\n"
   ]
  },
  {
   "cell_type": "markdown",
   "id": "11be031f",
   "metadata": {},
   "source": [
    "### The following code gives addition of two numbers"
   ]
  },
  {
   "cell_type": "code",
   "execution_count": 1,
   "id": "ce9ad079",
   "metadata": {},
   "outputs": [
    {
     "data": {
      "text/plain": [
       "100"
      ]
     },
     "execution_count": 1,
     "metadata": {},
     "output_type": "execute_result"
    }
   ],
   "source": [
    "50+50"
   ]
  },
  {
   "cell_type": "markdown",
   "id": "edcf6bc4",
   "metadata": {},
   "source": [
    "| header | header |\n",
    "| ------ | ------ |\n",
    "| cell | cell |\n",
    "| ------ | ------ |"
   ]
  },
  {
   "cell_type": "markdown",
   "id": "a660bd4b",
   "metadata": {},
   "source": [
    "- one\n",
    "- two\n",
    "- three\n",
    "- four\n",
    "- five\n",
    "- six\n",
    "- seven \n",
    "- eight\n",
    "- nine \n",
    "- ten"
   ]
  },
  {
   "cell_type": "code",
   "execution_count": null,
   "id": "84d05f7d",
   "metadata": {},
   "outputs": [],
   "source": []
  }
 ],
 "metadata": {
  "kernelspec": {
   "display_name": "Python 3",
   "language": "python",
   "name": "python3"
  },
  "language_info": {
   "codemirror_mode": {
    "name": "ipython",
    "version": 3
   },
   "file_extension": ".py",
   "mimetype": "text/x-python",
   "name": "python",
   "nbconvert_exporter": "python",
   "pygments_lexer": "ipython3",
   "version": "3.8.8"
  }
 },
 "nbformat": 4,
 "nbformat_minor": 5
}
